{
  "nbformat": 4,
  "nbformat_minor": 0,
  "metadata": {
    "colab": {
      "name": "Домашняя работа №2.ipynb",
      "provenance": [],
      "collapsed_sections": [],
      "authorship_tag": "ABX9TyNA1R6NJNRnHv44zjG8yL1A"
    },
    "kernelspec": {
      "name": "python3",
      "display_name": "Python 3"
    },
    "language_info": {
      "name": "python"
    }
  },
  "cells": [
    {
      "cell_type": "markdown",
      "source": [
        "# **Заглушка**"
      ],
      "metadata": {
        "id": "1SBn7hVBhvje"
      }
    },
    {
      "cell_type": "markdown",
      "source": [
        "**Задание №1**"
      ],
      "metadata": {
        "id": "sF22V5ipTqjh"
      }
    },
    {
      "cell_type": "markdown",
      "source": [
        "Сгенерировать датасет при помощи sklearn.datasets.make_regression и обучить линейную модель при помощи градиентного спуска и стохастического градиентного спуска. Построить графики среднеквадратичной ошибки от числа итераций для обоих методов на одном рисунке, сделать выводы о разнице скорости сходимости каждого из методов."
      ],
      "metadata": {
        "id": "Lwo5wft8TtK6"
      }
    }
  ]
}