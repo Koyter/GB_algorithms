{
  "nbformat": 4,
  "nbformat_minor": 0,
  "metadata": {
    "colab": {
      "name": "Домашнее задание №8.ipynb",
      "provenance": [],
      "authorship_tag": "ABX9TyMVaQu/z153bUJDws5/HMdx"
    },
    "kernelspec": {
      "name": "python3",
      "display_name": "Python 3"
    },
    "language_info": {
      "name": "python"
    }
  },
  "cells": [
    {
      "cell_type": "markdown",
      "source": [
        "## Заглушка"
      ],
      "metadata": {
        "id": "OzAz47fUx1u5"
      }
    },
    {
      "cell_type": "code",
      "execution_count": null,
      "metadata": {
        "id": "qL1F9V6CxykF"
      },
      "outputs": [],
      "source": [
        ""
      ]
    }
  ]
}