{
  "nbformat": 4,
  "nbformat_minor": 0,
  "metadata": {
    "colab": {
      "name": "Домашнее задание №7.ipynb",
      "provenance": [],
      "authorship_tag": "ABX9TyMVaQu/z153bUJDws5/HMdx"
    },
    "kernelspec": {
      "name": "python3",
      "display_name": "Python 3"
    },
    "language_info": {
      "name": "python"
    }
  },
  "cells": [
    {
      "cell_type": "markdown",
      "source": [
        "## Заглушка"
      ],
      "metadata": {
        "id": "wXHOOOk7FQDN"
      }
    },
    {
      "cell_type": "code",
      "execution_count": null,
      "metadata": {
        "id": "SVhAhWJ4FMuA"
      },
      "outputs": [],
      "source": [
        ""
      ]
    }
  ]
}