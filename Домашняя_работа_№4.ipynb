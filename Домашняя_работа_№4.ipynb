{
  "nbformat": 4,
  "nbformat_minor": 0,
  "metadata": {
    "colab": {
      "name": "Домашняя работа №4.ipynb",
      "provenance": [],
      "authorship_tag": "ABX9TyO/hQeQClDUQCYqmJ/cdgW2"
    },
    "kernelspec": {
      "name": "python3",
      "display_name": "Python 3"
    },
    "language_info": {
      "name": "python"
    }
  },
  "cells": [
    {
      "cell_type": "markdown",
      "source": [
        "## Заглушка"
      ],
      "metadata": {
        "id": "APue_PClb84Q"
      }
    }
  ]
}