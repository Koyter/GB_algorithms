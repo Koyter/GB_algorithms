{
  "nbformat": 4,
  "nbformat_minor": 0,
  "metadata": {
    "colab": {
      "name": "Домашняя работа №2.ipynb",
      "provenance": [],
      "collapsed_sections": [],
      "authorship_tag": "ABX9TyNsnSHST8rHchMZJGJ10DT8"
    },
    "kernelspec": {
      "name": "python3",
      "display_name": "Python 3"
    },
    "language_info": {
      "name": "python"
    }
  },
  "cells": [
    {
      "cell_type": "markdown",
      "source": [
        "**Задание №1**"
      ],
      "metadata": {
        "id": "sF22V5ipTqjh"
      }
    },
    {
      "cell_type": "markdown",
      "source": [
        "Сгенерировать датасет при помощи sklearn.datasets.make_regression и обучить линейную модель при помощи градиентного спуска и стохастического градиентного спуска. Построить графики среднеквадратичной ошибки от числа итераций для обоих методов на одном рисунке, сделать выводы о разнице скорости сходимости каждого из методов."
      ],
      "metadata": {
        "id": "Lwo5wft8TtK6"
      }
    },
    {
      "cell_type": "code",
      "source": [
        "import numpy as np\n",
        "from sklearn import datasets\n",
        "import matplotlib.pyplot as plt\n",
        "plt.rcParams.update({'font.size': 14,\n",
        "                     'xtick.labelsize': 14})\n",
        "%matplotlib inline"
      ],
      "metadata": {
        "id": "P4mo4aaiE1TC"
      },
      "execution_count": 1,
      "outputs": []
    },
    {
      "cell_type": "code",
      "source": [
        "X, y, coef = datasets.make_regression(n_samples=1000, \n",
        "                                      n_features=2, \n",
        "                                      n_informative=2, \n",
        "                                      n_targets=1, \n",
        "                                      noise=5, \n",
        "                                      coef=True, \n",
        "                                      random_state=42)"
      ],
      "metadata": {
        "id": "S2ThiWGSFWEq"
      },
      "execution_count": 2,
      "outputs": []
    },
    {
      "cell_type": "code",
      "source": [
        "def calc_mse(y, y_pred):\n",
        "    err = np.mean((y - y_pred)**2)\n",
        "    return err"
      ],
      "metadata": {
        "id": "_zu7NHQIFbbO"
      },
      "execution_count": 3,
      "outputs": []
    },
    {
      "cell_type": "code",
      "source": [
        "def eval_GD(X, y, iterations=1000, alpha=1e-4):\n",
        "    np.random.seed(42)\n",
        "    w = np.random.randn(X.shape[1])\n",
        "    n = X.shape[0]\n",
        "    err = np.zeros(iterations)\n",
        "    for i in range(1, iterations + 1):\n",
        "        y_pred = np.dot(X, w)\n",
        "        err[i-1] = calc_mse(y, y_pred)\n",
        "        w -= alpha * (1/n * 2 * np.dot((y_pred - y), X))\n",
        "        if i % (iterations / 10) == 0:\n",
        "            print(i, w, err[i-1])\n",
        "    return w, err"
      ],
      "metadata": {
        "id": "AqwP9uEeiWHA"
      },
      "execution_count": 15,
      "outputs": []
    },
    {
      "cell_type": "code",
      "source": [
        "def eval_SGD(X, y, iterations, alpha=1e-4):\n",
        "    np.random.seed(42)\n",
        "    w = np.random.randn(X.shape[1]) \n",
        "    n = X.shape[0] \n",
        "    err = np.zeros(iterations)\n",
        "    for i in range(1, iterations + 1):\n",
        "        err[i-1] = calc_mse(y, np.dot(X, w))\n",
        "        ind = np.random.randint(n)\n",
        "        y_pred = np.dot(X[ind], w)\n",
        "        w -= alpha * (2 * np.dot((y_pred - y[ind]), X[ind]))\n",
        "        if i % (iterations / 10) == 0:\n",
        "            print(i, w, err[i-1])\n",
        "    return w, err"
      ],
      "metadata": {
        "id": "IZXXw8WlGik3"
      },
      "execution_count": 21,
      "outputs": []
    },
    {
      "cell_type": "code",
      "source": [
        "%%time\n",
        "\n",
        "w_gd, err_gd = eval_GD(X, y, iterations=1800, alpha=2e-3)"
      ],
      "metadata": {
        "colab": {
          "base_uri": "https://localhost:8080/"
        },
        "id": "1lK3GbQiHHgA",
        "outputId": "83d34ea8-84ff-41d2-b27a-720206fdab83"
      },
      "execution_count": 17,
      "outputs": [
        {
          "output_type": "stream",
          "name": "stdout",
          "text": [
            "180 [20.17180331  3.51684976] 435.30429753364285\n",
            "360 [30.26292487  5.22137774] 131.86069589063317\n",
            "540 [35.43881011  6.01482667] 52.42524515064287\n",
            "720 [38.0937253   6.38341978] 31.612519225900417\n",
            "900 [39.4555962   6.55425375] 26.15530884551109\n",
            "1080 [40.1542131   6.63322435] 24.723467361739523\n",
            "1260 [40.51260546  6.66962098] 24.34757556588639\n",
            "1440 [40.6964682   6.68633845] 24.248847490694864\n",
            "1620 [40.79079668  6.69398672] 24.222905747090014\n",
            "1800 [40.83919219  6.69746973] 24.216086867487466\n",
            "CPU times: user 65.2 ms, sys: 5.88 ms, total: 71.1 ms\n",
            "Wall time: 68.7 ms\n"
          ]
        }
      ]
    },
    {
      "cell_type": "code",
      "source": [
        "%%time\n",
        "\n",
        "w_sgd, err_sgd = eval_SGD(X, y, iterations=1800, alpha=2e-3)"
      ],
      "metadata": {
        "colab": {
          "base_uri": "https://localhost:8080/"
        },
        "id": "rJl8crPvH8eR",
        "outputId": "c602c7b0-2950-474b-a458-b78b53800829"
      },
      "execution_count": 28,
      "outputs": [
        {
          "output_type": "stream",
          "name": "stdout",
          "text": [
            "180 [19.65529365  5.739606  ] 447.0340485118575\n",
            "360 [30.40969016  6.60456365] 125.819105061513\n",
            "540 [36.38916434  6.63871725] 43.01632292001611\n",
            "720 [38.22725771  6.5437466 ] 30.85935754859502\n",
            "900 [39.45984463  6.5536025 ] 26.13251101631995\n",
            "1080 [40.13008522  6.93666013] 24.795710384722938\n",
            "1260 [40.79532583  7.12797844] 24.40470219402833\n",
            "1440 [41.20787704  6.77632988] 24.31731847363922\n",
            "1620 [41.26482306  6.49269889] 24.38852389153994\n",
            "1800 [41.14388282  6.46461217] 24.395304676881782\n",
            "CPU times: user 83.4 ms, sys: 686 µs, total: 84.1 ms\n",
            "Wall time: 87.9 ms\n"
          ]
        }
      ]
    },
    {
      "cell_type": "code",
      "source": [
        "w_gd, err_gd"
      ],
      "metadata": {
        "colab": {
          "base_uri": "https://localhost:8080/"
        },
        "id": "3lQcEoFrMd91",
        "outputId": "80c38d98-d928-46ad-d9d2-1ae263b21c94"
      },
      "execution_count": 23,
      "outputs": [
        {
          "output_type": "execute_result",
          "data": {
            "text/plain": [
              "(array([40.83919219,  6.69746973]),\n",
              " array([1583.95791368, 1572.37726494, 1560.88265147, ...,   24.21612324,\n",
              "          24.21610499,   24.21608687]))"
            ]
          },
          "metadata": {},
          "execution_count": 23
        }
      ]
    },
    {
      "cell_type": "code",
      "source": [
        "w_sgd, err_sgd"
      ],
      "metadata": {
        "colab": {
          "base_uri": "https://localhost:8080/"
        },
        "id": "Wf1Cmp3ZOPhc",
        "outputId": "f4a92961-bb4d-47e4-fdb9-5891a8baf2ec"
      },
      "execution_count": 24,
      "outputs": [
        {
          "output_type": "execute_result",
          "data": {
            "text/plain": [
              "(array([39.7383794 ,  6.77156223]),\n",
              " array([1583.95791368, 1583.92450215, 1582.27007146, 1577.86253944,\n",
              "        1572.67326552, 1571.66961667, 1571.66876962, 1562.13404045,\n",
              "        1543.37995186, 1543.37523695, 1543.43107623, 1541.89275528,\n",
              "        1541.80843452, 1527.78213545, 1527.7522278 , 1509.29667949,\n",
              "        1500.39869106, 1489.42913749, 1478.85396466, 1453.65547493,\n",
              "        1451.51883629, 1445.33750473, 1444.10589647, 1432.51938854,\n",
              "        1404.95065135, 1404.49802343, 1397.38767222, 1394.47593312,\n",
              "        1386.58954371, 1368.38405126, 1355.88591477, 1345.23227804,\n",
              "        1324.47063016, 1289.9924778 , 1266.84248466, 1253.09312479,\n",
              "        1253.09602021, 1249.08109022, 1246.85520828, 1246.29117051,\n",
              "        1244.45730148, 1242.62298068, 1242.25160024, 1238.36164914,\n",
              "        1209.1266425 , 1205.44048075, 1204.64927944, 1200.97407773,\n",
              "        1199.27252269, 1183.50037676, 1183.33431473, 1180.11617178,\n",
              "        1165.54177181, 1148.95424934, 1141.99818347, 1141.39877296,\n",
              "        1141.58307645, 1136.37042396, 1132.90017115, 1132.67093129,\n",
              "        1131.25022023, 1124.48569466, 1124.1224198 , 1108.70256477,\n",
              "        1102.62393618, 1098.03351636, 1095.00231937, 1094.53743595,\n",
              "        1094.03805058, 1091.07817515, 1091.11503644, 1074.15146476,\n",
              "        1074.13166373, 1063.64896296, 1058.76200382, 1053.23771971,\n",
              "        1044.13943391, 1044.14489603, 1043.93379875, 1041.29460526,\n",
              "        1040.84577072, 1037.28640863, 1036.87004637, 1036.7768561 ,\n",
              "        1036.74054619, 1036.73746081, 1036.45061507, 1036.44754727,\n",
              "        1036.24308139, 1027.39963383, 1027.4012117 , 1022.29584497,\n",
              "        1011.54912629,  960.55965756,  960.42663224,  958.65554681,\n",
              "         940.89180719,  940.75907142,  920.24918645,  918.97873547,\n",
              "         916.21348701,  911.77701018,  908.53635898,  908.38593726,\n",
              "         888.73181928,  888.42666773,  888.05457921,  880.67921596,\n",
              "         876.44700358,  855.09512759,  849.78100179,  849.26088636,\n",
              "         843.93620489,  843.88654002,  839.69669302,  834.18952926,\n",
              "         832.40926321,  819.08860208,  818.77262822,  790.48335652,\n",
              "         789.60559998,  785.90966934,  778.06446072,  763.70741992,\n",
              "         763.57986201,  758.24618507,  756.6059415 ,  753.39240606,\n",
              "         742.25634448,  740.76003293,  726.23385415,  722.82845282,\n",
              "         720.93215056,  719.61948214,  718.99227733,  718.80815232,\n",
              "         710.5050586 ,  710.0637797 ,  709.77855323,  700.08322306,\n",
              "         700.08640749,  700.07779891,  689.52929349,  678.52061039,\n",
              "         675.95332812,  640.22529124,  640.17956639,  629.91523614,\n",
              "         609.86645971,  605.66763165,  593.57207508,  587.18537808,\n",
              "         586.91790098,  574.88216494,  543.13917335,  541.00481251,\n",
              "         540.38185804,  540.06458738,  520.59978094,  509.4780173 ,\n",
              "         503.11364913,  502.80259794,  492.80703413,  487.02860827,\n",
              "         486.13200346,  486.14905734,  483.8094502 ,  477.16563593,\n",
              "         477.18013685,  474.43360018,  474.38579224,  474.33166359,\n",
              "         473.64605321,  469.95614273,  468.76626932,  466.92720262,\n",
              "         466.92480964,  465.88451968,  449.3775267 ,  447.03404851,\n",
              "         442.3839348 ,  434.58371388,  434.07544413,  433.85619406,\n",
              "         432.2250141 ,  430.45603539,  421.8741159 ,  421.28551677,\n",
              "         414.66075845,  414.15394644,  404.33214772,  401.10855535,\n",
              "         398.50034499,  398.49335069,  398.22181643,  396.6845991 ,\n",
              "         392.92851183,  392.92728218,  391.27084468,  391.21099716,\n",
              "         382.8070295 ,  371.41680016,  369.66196479,  366.83841148,\n",
              "         360.56754732,  358.93873335,  359.03906526,  353.70632504,\n",
              "         352.33910281,  351.047789  ,  351.06546796,  342.13422452,\n",
              "         341.45992458,  341.25392765,  335.54271913,  335.61036617,\n",
              "         333.50251353,  328.8428914 ,  327.99043873,  328.04572258,\n",
              "         327.85807196,  321.96489175,  321.83686243,  321.82124476,\n",
              "         318.44665136,  318.43616741,  317.60900603,  317.7276294 ,\n",
              "         314.58691522,  314.3224995 ,  313.60459444,  306.87701603,\n",
              "         298.21841105,  294.25436476,  291.01333656,  288.83344673,\n",
              "         288.68615345,  287.81912455,  287.07573229,  286.25216849,\n",
              "         285.01412722,  281.64667325,  277.73311335,  276.16061103,\n",
              "         275.87776675,  274.05672055,  274.01505008,  273.36979589,\n",
              "         265.02671798,  265.02644876,  264.96835822,  262.01932231,\n",
              "         261.92367043,  260.80214668,  260.29936811,  257.2622337 ,\n",
              "         252.68625012,  252.69101341,  252.5429313 ,  252.55855241,\n",
              "         251.85822895,  248.76850378,  247.86210891,  246.90005679,\n",
              "         246.88900231,  246.95458692,  245.59359458,  244.86740553,\n",
              "         243.8403731 ,  243.29168992,  242.26363509,  241.36334565,\n",
              "         235.4100204 ,  233.57384639,  233.56325263,  233.51597011,\n",
              "         233.3908741 ,  232.52978659,  232.30595364,  232.33447924,\n",
              "         232.32392052,  232.31185417,  232.23313176,  231.99263971,\n",
              "         229.82115576,  229.83099283,  223.79636973,  224.13904442,\n",
              "         222.10131063,  220.60296693,  218.80522457,  218.83893655,\n",
              "         214.97046288,  213.12001535,  212.75508236,  209.70808598,\n",
              "         209.71922115,  208.13321731,  208.04157383,  207.70805226,\n",
              "         207.40382639,  199.84165822,  192.75827775,  189.90238618,\n",
              "         189.90462861,  188.96590438,  188.05397813,  185.5014776 ,\n",
              "         185.52469271,  185.57262693,  185.37892099,  185.36391301,\n",
              "         185.35233888,  184.16614161,  181.22342233,  181.02706091,\n",
              "         180.94931135,  176.13416417,  175.94470954,  175.8105711 ,\n",
              "         175.55932833,  173.61292785,  173.40807921,  172.88631254,\n",
              "         168.8606585 ,  167.94282424,  165.67622597,  164.74334173,\n",
              "         163.99566708,  163.83916891,  162.58206918,  162.58235863,\n",
              "         162.02770276,  161.86260448,  161.52751963,  161.55581927,\n",
              "         160.62327637,  158.05831397,  157.71701879,  155.52061026,\n",
              "         155.40554856,  155.16861307,  153.52773977,  149.07258138,\n",
              "         148.26156779,  148.27739264,  148.49005702,  145.60111841,\n",
              "         144.13275909,  143.85787007,  141.13542298,  139.98589662,\n",
              "         138.83290961,  138.74499906,  134.01173345,  130.46658009,\n",
              "         130.2889432 ,  130.12269465,  129.39826365,  125.81910506,\n",
              "         125.81910526,  125.52412243,  125.91953412,  124.75352694,\n",
              "         124.74419306,  121.15360946,  120.88721781,  120.60927266,\n",
              "         120.61908923,  119.22639739,  117.86772929,  117.38581367,\n",
              "         117.35622852,  117.09190672,  115.84586776,  115.55026126,\n",
              "         113.96586951,  112.8248737 ,  111.9649008 ,  109.99745516,\n",
              "         108.51485816,  108.32445902,  108.16471838,  108.22629246,\n",
              "         108.20207452,  107.72677865,  107.12953327,  107.08036405,\n",
              "         105.7540376 ,  104.97487178,  103.3100764 ,  102.8068589 ,\n",
              "         101.46748938,  101.26882178,  101.22674397,   97.55355327,\n",
              "          97.32656115,   95.69595324,   94.77004933,   93.29282471,\n",
              "          93.10335741,   92.88588496,   92.86509448,   90.9689518 ,\n",
              "          90.583787  ,   90.5622082 ,   90.25110093,   88.49929447,\n",
              "          88.4991436 ,   87.29674199,   87.41255411,   87.12086423,\n",
              "          86.67893898,   86.77832008,   86.64734773,   85.87597374,\n",
              "          85.59708034,   84.62976144,   82.71729673,   82.71683297,\n",
              "          82.69817184,   82.69468043,   81.88817324,   80.95236135,\n",
              "          80.65795359,   79.81695244,   79.84819027,   80.00180084,\n",
              "          79.80444973,   79.63478205,   79.56324851,   79.54892356,\n",
              "          78.48333137,   78.20689471,   78.10016895,   78.20880111,\n",
              "          78.33983361,   78.00514947,   77.29820122,   77.0386212 ,\n",
              "          77.02912301,   76.83463594,   76.6975705 ,   76.77389556,\n",
              "          76.15380817,   75.90909139,   75.9035775 ,   75.83528333,\n",
              "          75.8267107 ,   75.73968999,   75.80958898,   75.8050245 ,\n",
              "          74.99081858,   74.93156214,   74.14873786,   74.04449455,\n",
              "          73.97875622,   73.99391772,   74.0229927 ,   74.01777388,\n",
              "          73.83174374,   73.86230304,   72.89718704,   72.84195523,\n",
              "          72.39268493,   69.84003379,   69.63220049,   69.63588243,\n",
              "          69.53214302,   68.88341339,   68.36734583,   67.44746231,\n",
              "          66.80475019,   66.83560304,   65.69851951,   65.34489004,\n",
              "          65.36722514,   62.06591956,   62.03521931,   61.48697475,\n",
              "          61.44323415,   61.37099475,   61.33739096,   61.0423076 ,\n",
              "          60.54310101,   58.84600116,   58.58652218,   58.47602432,\n",
              "          58.21516294,   58.21218162,   55.93308785,   55.73166661,\n",
              "          55.18872255,   55.28099359,   55.35334091,   54.86742341,\n",
              "          54.79145053,   52.77481388,   52.78372086,   52.78973631,\n",
              "          52.7601215 ,   52.18586057,   51.19581882,   51.29587791,\n",
              "          51.32358628,   51.33807484,   51.06936774,   51.03012014,\n",
              "          50.89369433,   50.83083756,   49.88200146,   50.07677115,\n",
              "          49.93333429,   49.8667809 ,   49.82402289,   49.79826841,\n",
              "          49.85565185,   49.08174013,   49.0372653 ,   48.56823161,\n",
              "          47.26013492,   47.29738771,   47.32187626,   47.2076213 ,\n",
              "          47.26401371,   47.19943433,   47.19344305,   47.17357414,\n",
              "          46.61229866,   46.51372993,   46.45507524,   46.43367499,\n",
              "          46.06097305,   46.1161476 ,   44.67160339,   43.69938851,\n",
              "          43.22615261,   43.10578986,   43.01917538,   43.01632292,\n",
              "          42.95690534,   42.4070295 ,   42.36931294,   42.38290821,\n",
              "          42.40145135,   42.39653684,   41.12931679,   41.2266463 ,\n",
              "          40.67891226,   40.51510083,   40.52437957,   40.55658687,\n",
              "          40.53746381,   40.53254683,   40.30729875,   40.21622077,\n",
              "          40.1172635 ,   40.13113898,   40.14037611,   39.82759799,\n",
              "          39.79123256,   39.68069376,   39.52848244,   39.48075406,\n",
              "          39.51621316,   39.18741415,   39.2050592 ,   39.13871269,\n",
              "          39.15654898,   39.13873308,   39.1010141 ,   39.01943755,\n",
              "          39.23879972,   39.44891176,   39.45691666,   39.46478071,\n",
              "          39.4586313 ,   39.38635255,   39.38598372,   39.32526331,\n",
              "          38.70481439,   38.71584591,   38.59601451,   38.66016982,\n",
              "          38.71906606,   38.45750872,   38.43156373,   38.42887072,\n",
              "          38.41396013,   38.2828361 ,   38.27246653,   38.30430198,\n",
              "          38.30709213,   38.3800359 ,   38.40814282,   38.44288571,\n",
              "          38.44695069,   38.42795199,   38.2091192 ,   37.92718504,\n",
              "          37.92370372,   37.89216606,   37.89159172,   37.73731379,\n",
              "          37.76414495,   38.0031596 ,   38.05323126,   38.06005321,\n",
              "          38.04430446,   38.02963197,   38.02570309,   38.08958915,\n",
              "          38.08594113,   37.98956361,   37.75658189,   37.80663822,\n",
              "          37.75189776,   37.58332072,   37.60209771,   37.6045861 ,\n",
              "          37.57033879,   37.39009243,   37.34752799,   37.24810098,\n",
              "          37.13668463,   36.57735678,   36.6076563 ,   36.50472031,\n",
              "          36.3706    ,   36.33767874,   36.32682292,   35.89816551,\n",
              "          36.08153338,   36.11006212,   36.04932253,   36.04661515,\n",
              "          36.0357937 ,   35.41446944,   35.40351365,   34.41310385,\n",
              "          34.3535316 ,   34.28377888,   34.1760879 ,   34.18022439,\n",
              "          33.93780424,   33.92728191,   33.95282332,   34.01083243,\n",
              "          34.16148858,   34.1473844 ,   34.11667551,   33.89893312,\n",
              "          33.82094452,   33.81390146,   33.75618303,   33.79519891,\n",
              "          33.67302116,   33.65705045,   33.34203438,   33.34632072,\n",
              "          33.25855301,   33.25790408,   33.22911753,   33.20073216,\n",
              "          33.15980115,   33.19389113,   33.23356469,   33.29268607,\n",
              "          33.31857968,   33.19807658,   33.16060617,   33.06985913,\n",
              "          33.17120278,   33.00033909,   33.03460666,   33.07299406,\n",
              "          33.02493776,   32.91873749,   32.87602683,   32.8185581 ,\n",
              "          32.81002653,   32.75723813,   32.74196832,   32.72844508,\n",
              "          32.74566534,   32.6595602 ,   32.54355641,   32.47326197,\n",
              "          32.46441519,   32.37732478,   32.38183662,   32.1790267 ,\n",
              "          32.0391812 ,   32.03912835,   31.95858892,   32.03371205,\n",
              "          31.86183079,   31.87709978,   31.85709394,   31.74207438,\n",
              "          31.70137512,   31.7007653 ,   31.68912111,   31.67702443,\n",
              "          31.51620343,   31.53057384,   31.53000977,   31.4402443 ,\n",
              "          31.33652137,   31.12783732,   31.12567132,   31.13623251,\n",
              "          30.94418392,   30.90334162,   30.92397195,   30.93377967,\n",
              "          30.95234553,   30.85969149,   30.80719165,   30.85935755,\n",
              "          30.80098845,   30.70477924,   30.70306976,   30.75133481,\n",
              "          30.71933481,   30.72765244,   30.26786985,   30.28556096,\n",
              "          30.28575972,   30.23731216,   29.9832772 ,   30.01997704,\n",
              "          30.02413378,   29.98268622,   29.97490985,   29.806381  ,\n",
              "          29.75637756,   29.78095806,   29.67736841,   29.47824454,\n",
              "          29.38248688,   29.38948748,   29.38377908,   29.32873395,\n",
              "          29.3283541 ,   29.45018242,   29.44848844,   29.45897666,\n",
              "          29.45944552,   29.45824185,   29.47261978,   29.47074987,\n",
              "          29.46265752,   29.31231267,   29.30909653,   29.2822001 ,\n",
              "          29.19594236,   29.13833903,   29.04422859,   29.05083659,\n",
              "          29.06467626,   29.25931929,   29.20150658,   28.79364385,\n",
              "          28.79475332,   28.71147517,   28.50545463,   28.51553399,\n",
              "          28.50318895,   28.54848331,   28.54851444,   28.54754041,\n",
              "          28.51118243,   28.40359816,   28.41934874,   28.40162607,\n",
              "          28.08710265,   28.08891066,   28.06591454,   27.99868573,\n",
              "          28.01272163,   28.05939607,   28.13927115,   28.15629089,\n",
              "          28.18330602,   28.16985123,   28.20654659,   28.21869932,\n",
              "          28.21533124,   28.22024117,   28.3084593 ,   28.36590611,\n",
              "          28.28421336,   28.37023353,   28.33195761,   28.24218055,\n",
              "          28.31581251,   28.29928273,   28.30696429,   27.89227433,\n",
              "          27.88188173,   27.90680271,   27.78837356,   27.81506955,\n",
              "          27.71116875,   27.7496512 ,   27.7259668 ,   27.72623795,\n",
              "          27.72461627,   27.71512945,   27.65573194,   27.28687763,\n",
              "          27.34077169,   27.22544224,   27.20206931,   27.20100449,\n",
              "          27.20598944,   27.20368623,   27.24308749,   27.17452103,\n",
              "          27.24768033,   27.21816508,   27.19110214,   27.04756461,\n",
              "          26.96060014,   26.84625211,   26.93926826,   26.93038307,\n",
              "          26.77547059,   26.82010947,   26.82190055,   26.81551552,\n",
              "          26.7569038 ,   26.74918326,   26.67757004,   26.5402617 ,\n",
              "          26.50940725,   26.49725583,   26.50944009,   26.50361194,\n",
              "          26.48134802,   26.4391797 ,   26.4408637 ,   26.43328938,\n",
              "          26.42144281,   26.44453198,   26.41823642,   26.42012609,\n",
              "          26.42076247,   26.17079891,   26.15087138,   26.09442808,\n",
              "          26.09292574,   26.09038309,   26.06943861,   26.02990692,\n",
              "          25.9442284 ,   25.93193815,   25.93214126,   25.9563542 ,\n",
              "          25.94249974,   25.95923484,   25.95143362,   25.96042457,\n",
              "          25.92685281,   25.8776279 ,   25.85417882,   26.00445348,\n",
              "          25.99626415,   25.93071467,   25.92392889,   25.86611232,\n",
              "          25.86010458,   25.86209101,   25.83366291,   25.83488014,\n",
              "          25.90387394,   25.90554221,   25.82546229,   25.82035674,\n",
              "          25.82444369,   25.87369549,   25.85629566,   25.88987165,\n",
              "          25.88954246,   25.9025767 ,   25.90376771,   25.97594761,\n",
              "          25.96232917,   25.95844161,   25.94705038,   25.99334903,\n",
              "          26.05839379,   26.0922778 ,   26.0843696 ,   26.09153543,\n",
              "          26.12476559,   26.10770075,   26.13538615,   26.13251102,\n",
              "          26.12987741,   26.16168668,   26.17016415,   26.07256508,\n",
              "          26.07055406,   26.05885496,   26.05810555,   26.17411904,\n",
              "          26.21416426,   26.21531795,   26.21391913,   26.00656281,\n",
              "          26.00759815,   26.0615635 ,   26.04868052,   26.05507186,\n",
              "          26.06949907,   26.05446682,   26.0594991 ,   26.0462094 ,\n",
              "          25.92507161,   25.8840743 ,   25.88955511,   25.96925379,\n",
              "          25.98103787,   26.01240599,   25.9991736 ,   25.98325936,\n",
              "          25.96456944,   25.98949301,   26.0190732 ,   25.96841514,\n",
              "          25.97962697,   25.99480239,   25.98747402,   25.98462733,\n",
              "          25.98754115,   25.91217445,   25.90503669,   25.86129821,\n",
              "          25.86122225,   25.88681129,   25.89774304,   25.89902733,\n",
              "          25.90558686,   25.90281357,   26.02018986,   26.02511433,\n",
              "          25.98858988,   25.98659787,   25.89532014,   25.89212296,\n",
              "          25.80388438,   25.80608904,   25.87532015,   25.87419825,\n",
              "          25.85219254,   25.92968238,   25.96208143,   25.95964741,\n",
              "          25.92377615,   25.88178697,   25.88062266,   25.86505377,\n",
              "          25.89030478,   25.90149214,   25.84047769,   25.83777388,\n",
              "          25.83269131,   25.85131541,   25.84290608,   25.85671892,\n",
              "          25.63840033,   25.62927418,   25.62134183,   25.59538094,\n",
              "          25.61755529,   25.64171354,   25.63509157,   25.6006657 ,\n",
              "          25.59527357,   25.58708348,   25.59080009,   25.57402973,\n",
              "          25.58292616,   25.56276218,   25.55939551,   25.55847673,\n",
              "          25.53235941,   25.52736225,   25.51855154,   25.49895116,\n",
              "          25.52904289,   25.5321405 ,   25.52762248,   25.48924063,\n",
              "          25.48983398,   25.47884143,   25.48337334,   25.44490333]))"
            ]
          },
          "metadata": {},
          "execution_count": 24
        }
      ]
    },
    {
      "cell_type": "code",
      "source": [
        "x = np.arange(1800)\n",
        "plt.plot(x, err_gd, label=\"Градиентный спуск\")\n",
        "plt.plot(x, err_sgd, label=\"Стохастический градиентный спуск\")\n",
        "plt.legend()\n",
        "plt.show()"
      ],
      "metadata": {
        "colab": {
          "base_uri": "https://localhost:8080/",
          "height": 269
        },
        "id": "E1JQ5IduOW_v",
        "outputId": "72e3f12d-ba6b-4101-bacb-d876f527776a"
      },
      "execution_count": 30,
      "outputs": [
        {
          "output_type": "display_data",
          "data": {
            "image/png": "[encoded data removed]",
            "text/plain": [
              "<Figure size 432x288 with 1 Axes>"
            ]
          },
          "metadata": {
            "needs_background": "light"
          }
        }
      ]
    },
    {
      "cell_type": "markdown",
      "source": [
        "Градиентный спуск показал здесь более быстрые результаты по сравнению с стохастическим. "
      ],
      "metadata": {
        "id": "TYRGkBeckb6I"
      }
    },
    {
      "cell_type": "markdown",
      "source": [
        "Задание №2"
      ],
      "metadata": {
        "id": "RQWS_tjUneJo"
      }
    },
    {
      "cell_type": "markdown",
      "source": [
        "Добавить в алгоритм градиентного спуска L1 регуляризацию. Сравнить влияние коэффициентов регуляризации L1 и L2 на величину весов для примера из урока (лучше графически)."
      ],
      "metadata": {
        "id": "UvhXtP70nZ5C"
      }
    },
    {
      "cell_type": "code",
      "source": [
        "def eval_model_reg2(X, y, iterations, alpha=1e-4, lambda_=1e-8, verbose=False):\n",
        "    np.random.seed(42)\n",
        "    w = np.random.randn(X.shape[1])\n",
        "    n = X.shape[0]\n",
        "    for i in range(1, iterations + 1):\n",
        "        y_pred = np.dot(X, w)\n",
        "        err = calc_mse(y, y_pred)\n",
        "        w -= alpha * (1/n * 2 * np.dot((y_pred - y), X) + 2 * lambda_ * w)\n",
        "        if verbose and i % (iterations / 10) == 0:\n",
        "            print(i, w, err)\n",
        "    return w"
      ],
      "metadata": {
        "id": "J0ju5n6oklEq"
      },
      "execution_count": 31,
      "outputs": []
    },
    {
      "cell_type": "code",
      "source": [
        "def eval_model_reg1(X, y, iterations, alpha=1e-4, lambda_=1e-8, verbose=False):\n",
        "    np.random.seed(42)\n",
        "    w = np.random.randn(X.shape[1])\n",
        "    n = X.shape[0]\n",
        "    for i in range(1, iterations + 1):\n",
        "        y_pred = np.dot(X, w)\n",
        "        err = calc_mse(y, y_pred)\n",
        "        w -= alpha * (1/n * 2 * np.dot((y_pred - y), X) + 2 * lambda_ * np.sign(w))\n",
        "        if verbose and i % (iterations / 10) == 0:\n",
        "            print(i, w, err)\n",
        "    return w"
      ],
      "metadata": {
        "id": "pXPUF-ALlTaL"
      },
      "execution_count": 40,
      "outputs": []
    },
    {
      "cell_type": "code",
      "source": [
        "X = np.array([[1, 1, 1, 1, 1, 1, 1, 1, 1, 1],\n",
        "              [1, 1, 2, 1, 3, 0, 5, 10, 1, 2],  # стаж репетитора\n",
        "              [500, 700, 750, 600, 1450,        # средняя стоимость занятия\n",
        "               800, 1500, 2000, 450, 1000],\n",
        "              [1, 1, 2, 1, 2, 1, 3, 3, 1, 2]]).T  # квалификация репетитора\n",
        "               \n",
        "y = [45, 55, 50, 59, 65, 35, 75, 80, 50, 60]"
      ],
      "metadata": {
        "id": "MTN3dfeYlcnt"
      },
      "execution_count": 33,
      "outputs": []
    },
    {
      "cell_type": "code",
      "source": [
        "def standardization(x: np.ndarray) -> np.ndarray:\n",
        "    s = (x - x.mean()) / x.std()\n",
        "    return s"
      ],
      "metadata": {
        "id": "Xn5NsDp7lf5d"
      },
      "execution_count": 35,
      "outputs": []
    },
    {
      "cell_type": "code",
      "source": [
        "X_st = X.copy().astype(np.float64)\n",
        "X_st[:, 1] = standardization(X[:, 1])\n",
        "X_st[:, 2] = standardization(X[:, 2])\n",
        "X_st[:, 3] = standardization(X[:, 3])"
      ],
      "metadata": {
        "id": "Rhyj_6WZlruY"
      },
      "execution_count": 37,
      "outputs": []
    },
    {
      "cell_type": "code",
      "source": [
        "eval_model_reg2(X_st, y, iterations=1000, alpha=1e-3, lambda_=1e-8, verbose=True)"
      ],
      "metadata": {
        "colab": {
          "base_uri": "https://localhost:8080/"
        },
        "id": "iCsJuuScl_aV",
        "outputId": "84959ff9-5881-4c98-b8a3-832f02ac851b"
      },
      "execution_count": 52,
      "outputs": [
        {
          "output_type": "stream",
          "name": "stdout",
          "text": [
            "100 [10.82085912  1.29195794  1.98348487  2.85162982] 2248.0687660407552\n",
            "200 [19.27186145  2.14047528  2.73306929  3.60356198] 1510.234240247458\n",
            "300 [26.18957142  2.65450377  3.14650921  4.02491825] 1022.3117273467506\n",
            "400 [31.85217915  2.97593535  3.36731265  4.25691774] 697.4954054124412\n",
            "500 [36.48740186  3.18621662  3.4778338   4.38059399] 480.5372433000956\n",
            "600 [40.28164129  3.33210452  3.52533113  4.44244068] 335.378697030888\n",
            "700 [43.38747974  3.4404474   3.53692185  4.46912962] 238.174998146273\n",
            "800 [45.92981598  3.52666783  3.52816433  4.47595727] 173.05307838588823\n",
            "900 [48.01088803  3.59963079  3.50798338  4.47169214] 129.41144532880182\n",
            "1000 [49.71438453  3.66443754  3.48149698  4.46135667] 100.15782193602467\n"
          ]
        },
        {
          "output_type": "execute_result",
          "data": {
            "text/plain": [
              "array([49.71438453,  3.66443754,  3.48149698,  4.46135667])"
            ]
          },
          "metadata": {},
          "execution_count": 52
        }
      ]
    },
    {
      "cell_type": "code",
      "source": [
        "eval_model_reg1(X_st, y, iterations=1000, alpha=1e-3, lambda_=1e-8, verbose=True)"
      ],
      "metadata": {
        "colab": {
          "base_uri": "https://localhost:8080/"
        },
        "id": "lItrux_LmHm9",
        "outputId": "edef8031-ddf9-407a-a124-d5400f50a049"
      },
      "execution_count": 53,
      "outputs": [
        {
          "output_type": "stream",
          "name": "stdout",
          "text": [
            "100 [10.82085913  1.29195794  1.98348487  2.85162983] 2248.0687651959793\n",
            "200 [19.27186149  2.14047528  2.7330693   3.60356199] 1510.2342376819338\n",
            "300 [26.18957149  2.65450377  3.14650922  4.02491826] 1022.3117231331593\n",
            "400 [31.85217926  2.97593535  3.36731265  4.25691775] 697.4953999733251\n",
            "500 [36.48740201  3.18621662  3.47783381  4.380594  ] 480.5372371283447\n",
            "600 [40.28164148  3.33210452  3.52533114  4.4424407 ] 335.3786905670296\n",
            "700 [43.38747996  3.4404474   3.53692186  4.46912964] 238.17499173464518\n",
            "800 [45.92981625  3.52666783  3.52816433  4.47595729] 173.05307226965175\n",
            "900 [48.01088833  3.59963079  3.50798339  4.47169216] 129.4114396622483\n",
            "1000 [49.71438486  3.66443754  3.48149698  4.46135669] 100.15781680276879\n"
          ]
        },
        {
          "output_type": "execute_result",
          "data": {
            "text/plain": [
              "array([49.71438486,  3.66443754,  3.48149698,  4.46135669])"
            ]
          },
          "metadata": {},
          "execution_count": 53
        }
      ]
    },
    {
      "cell_type": "code",
      "source": [
        "w_list = []\n",
        "l_list = []\n",
        "error_list = []\n",
        "\n",
        "for l in np.logspace(start=-4, stop=1, num=20):\n",
        "    l_list.append(l)\n",
        "    w_new = eval_model_reg2(X_st, y, iterations=1000, alpha=1e-2, lambda_=l)\n",
        "    w_list.append(w_new)\n",
        "    error_list.append(calc_mse(y, np.dot(X_st, w_new)))\n",
        "weights = np.array(w_list)\n",
        "errors = np.array(error_list)"
      ],
      "metadata": {
        "id": "dAC5et9kmI7c"
      },
      "execution_count": 47,
      "outputs": []
    },
    {
      "cell_type": "code",
      "source": [
        "w_list = []\n",
        "l_list = []\n",
        "error_list = []\n",
        "\n",
        "for l in np.logspace(start=-4, stop=1, num=20):\n",
        "    l_list.append(l)\n",
        "    w_new = eval_model_reg1(X_st, y, iterations=1000, alpha=1e-2, lambda_=l)\n",
        "    w_list.append(w_new)\n",
        "    error_list.append(calc_mse(y, np.dot(X_st, w_new)))\n",
        "weights = np.array(w_list)\n",
        "errors = np.array(error_list)"
      ],
      "metadata": {
        "id": "nKfP525Am4Bz"
      },
      "execution_count": 43,
      "outputs": []
    },
    {
      "cell_type": "code",
      "source": [
        "plt.figure(figsize=(10, 5))\n",
        "plt.xscale('log')\n",
        "#plt.plot(l_list, weights[:, 0], 'mo-', label=r'$w_0$')\n",
        "plt.plot(l_list, weights[:, 1], 'go-', label=r'$w_1$')\n",
        "plt.plot(l_list, weights[:, 2], 'ro-', label=r'$w_2$')\n",
        "plt.plot(l_list, weights[:, 3], 'bo-', label=r'$w_3$')\n",
        "plt.xlabel('Коэффициент L1 регуляризации')\n",
        "plt.ylabel('Веса')\n",
        "plt.grid()\n",
        "plt.legend();"
      ],
      "metadata": {
        "colab": {
          "base_uri": "https://localhost:8080/",
          "height": 344
        },
        "id": "BZFmkFTNm6CI",
        "outputId": "f4198edb-da94-4b04-f110-68738a40dee4"
      },
      "execution_count": 46,
      "outputs": [
        {
          "output_type": "display_data",
          "data": {
            "image/png": "[encoded data removed]",
            "text/plain": [
              "<Figure size 720x360 with 1 Axes>"
            ]
          },
          "metadata": {
            "needs_background": "light"
          }
        }
      ]
    },
    {
      "cell_type": "code",
      "source": [
        "plt.figure(figsize=(10, 5))\n",
        "plt.xscale('log')\n",
        "plt.plot(l_list, errors, 'o-')\n",
        "plt.xlabel('Коэффициент L2 регуляризации')\n",
        "plt.ylabel('MSE')\n",
        "plt.grid();"
      ],
      "metadata": {
        "colab": {
          "base_uri": "https://localhost:8080/",
          "height": 342
        },
        "id": "BtIK05c8m7wf",
        "outputId": "528a463a-1de0-4f08-f1f7-7f3472c7cb88"
      },
      "execution_count": 45,
      "outputs": [
        {
          "output_type": "display_data",
          "data": {
            "image/png": "[encoded data removed]",
            "text/plain": [
              "<Figure size 720x360 with 1 Axes>"
            ]
          },
          "metadata": {
            "needs_background": "light"
          }
        }
      ]
    },
    {
      "cell_type": "code",
      "source": [
        "plt.figure(figsize=(10, 5))\n",
        "plt.xscale('log')\n",
        "#plt.plot(l_list, weights[:, 0], 'mo-', label=r'$w_0$')\n",
        "plt.plot(l_list, weights[:, 1], 'go-', label=r'$w_1$')\n",
        "plt.plot(l_list, weights[:, 2], 'ro-', label=r'$w_2$')\n",
        "plt.plot(l_list, weights[:, 3], 'bo-', label=r'$w_3$')\n",
        "plt.xlabel('Коэффициент L2 регуляризации')\n",
        "plt.ylabel('Веса')\n",
        "plt.grid()\n",
        "plt.legend();"
      ],
      "metadata": {
        "colab": {
          "base_uri": "https://localhost:8080/",
          "height": 346
        },
        "id": "zpV_GV4fm9C2",
        "outputId": "1777974c-714f-43c7-e09e-ed6d7551e08f"
      },
      "execution_count": 48,
      "outputs": [
        {
          "output_type": "display_data",
          "data": {
            "image/png": "[encoded data removed]",
            "text/plain": [
              "<Figure size 720x360 with 1 Axes>"
            ]
          },
          "metadata": {
            "needs_background": "light"
          }
        }
      ]
    },
    {
      "cell_type": "code",
      "source": [
        "plt.figure(figsize=(10, 5))\n",
        "plt.xscale('log')\n",
        "plt.plot(l_list, errors, 'o-')\n",
        "plt.xlabel('Коэффициент L2 регуляризации')\n",
        "plt.ylabel('MSE')\n",
        "plt.grid();"
      ],
      "metadata": {
        "colab": {
          "base_uri": "https://localhost:8080/",
          "height": 342
        },
        "id": "ofFdSQHZnBR1",
        "outputId": "07e443e6-55ec-4769-c54e-065e45a9f146"
      },
      "execution_count": 49,
      "outputs": [
        {
          "output_type": "display_data",
          "data": {
            "image/png": "[encoded data removed]",
            "text/plain": [
              "<Figure size 720x360 with 1 Axes>"
            ]
          },
          "metadata": {
            "needs_background": "light"
          }
        }
      ]
    },
    {
      "cell_type": "code",
      "source": [
        ""
      ],
      "metadata": {
        "id": "xIRClqi_nEBw"
      },
      "execution_count": null,
      "outputs": []
    }
  ]
}